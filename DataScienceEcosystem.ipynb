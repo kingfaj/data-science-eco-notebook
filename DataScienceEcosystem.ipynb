{
  "nbformat": 4,
  "nbformat_minor": 0,
  "metadata": {
    "colab": {
      "provenance": [],
      "authorship_tag": "ABX9TyNHm0A6aZIkUmAmk9IvTCPk"
    },
    "kernelspec": {
      "name": "python3",
      "display_name": "Python 3"
    },
    "language_info": {
      "name": "python"
    }
  },
  "cells": [
    {
      "cell_type": "markdown",
      "source": [
        "# Data Science Tools and Ecosystem\n",
        "In this notebook data science tools and ecosystem are summarized."
      ],
      "metadata": {
        "id": "6c91pJcIGVVn"
      }
    },
    {
      "cell_type": "markdown",
      "source": [
        "**Objectives:**\n",
        "* List some popular languages used in Data Science\n",
        "- List some popular libraries used in Data Science\n",
        "* Provide a list of tools used in Data Science\n",
        "- Provide some example arithmetic evaluations in Python"
      ],
      "metadata": {
        "id": "tlZmsUByJi6N"
      }
    },
    {
      "cell_type": "markdown",
      "source": [
        "Some of the popular data science languages are:\n",
        "1. Python\n",
        "2. Java\n",
        "3. R\n",
        "4. Julia"
      ],
      "metadata": {
        "id": "FRtVophSGxAi"
      }
    },
    {
      "cell_type": "markdown",
      "source": [
        "Some of the most popular data science libraries include:\n",
        "1. TensorFlow\n",
        "2. Matplotlib\n",
        "3. Pandas\n",
        "4. NumPy"
      ],
      "metadata": {
        "id": "AXFzs6UwHGM9"
      }
    },
    {
      "cell_type": "markdown",
      "source": [
        "|Data Science Tools|\n",
        "|------------|\n",
        "|Apache Spark|\n",
        "|Project Jupyter|\n",
        "|RapidMiner|"
      ],
      "metadata": {
        "id": "iJXqEonMHmzJ"
      }
    },
    {
      "cell_type": "markdown",
      "source": [
        "### Below are a few examples of evaluating arithmetic expressions in Python\n"
      ],
      "metadata": {
        "id": "0q8dGFi9IKxD"
      }
    },
    {
      "cell_type": "code",
      "source": [
        "# This a simple arithmetic expression to mutiply then add integers\n",
        "(3*4)+5"
      ],
      "metadata": {
        "colab": {
          "base_uri": "https://localhost:8080/"
        },
        "id": "aCk6PI3CI0VT",
        "outputId": "4367a353-5f3b-475d-fb21-7baccf7dcb39"
      },
      "execution_count": 3,
      "outputs": [
        {
          "output_type": "execute_result",
          "data": {
            "text/plain": [
              "17"
            ]
          },
          "metadata": {},
          "execution_count": 3
        }
      ]
    },
    {
      "cell_type": "code",
      "source": [
        "# This will convert 200 minutes to hours by diving by 60\n",
        "200/60"
      ],
      "metadata": {
        "colab": {
          "base_uri": "https://localhost:8080/"
        },
        "id": "M5k0EDqvJOZ6",
        "outputId": "624f9d47-084b-4506-fd47-cc71de872208"
      },
      "execution_count": 4,
      "outputs": [
        {
          "output_type": "execute_result",
          "data": {
            "text/plain": [
              "3.3333333333333335"
            ]
          },
          "metadata": {},
          "execution_count": 4
        }
      ]
    },
    {
      "cell_type": "markdown",
      "source": [
        "##Author\n",
        "Faheem Jalaldeen"
      ],
      "metadata": {
        "id": "bhAishEQKmT_"
      }
    }
  ]
}